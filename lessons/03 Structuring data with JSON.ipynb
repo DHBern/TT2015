{
 "metadata": {
  "name": "",
  "signature": "sha256:af8b3e164387e45aebd4e835da440cf1b98eb95d06ff643011b7dc011f272059"
 },
 "nbformat": 3,
 "nbformat_minor": 0,
 "worksheets": [
  {
   "cells": [
    {
     "cell_type": "markdown",
     "metadata": {},
     "source": [
      "Data needs structure!\n",
      "=====================\n",
      "\n",
      "When we start using digital tools, the first thing we have to find out is what kind of data they expect and how it needs to be structured. Does the tool want a plain old text? Several plain old texts? Some extra information besides?\n",
      "\n",
      "Many tools, including the one we'll look at today, use the same sorts of variables, lists, and dictionaries that we've been learning about in Python. When they speak to each other they often express these variables, lists, and dictionaries in a fornat called JSON."
     ]
    },
    {
     "cell_type": "code",
     "collapsed": false,
     "input": [
      "import json"
     ],
     "language": "python",
     "metadata": {},
     "outputs": [],
     "prompt_number": 1
    },
    {
     "cell_type": "markdown",
     "metadata": {},
     "source": [
      "JSON stands for \"JavaScript Object Notation\", and was so amazingly simple and useful that it is used for many many things that have nothing to do with JavaScript.\n",
      "\n",
      "The idea is that everything is an *object*. There are simple objects, and there are complex objects, but they are all objects. And pretty much anything can be represented this way!\n",
      "\n",
      "Simple objects\n",
      "--------------\n",
      "\n",
      "Simple objects are things like numbers, letters, words, entire sequences of words, and Boolean values i.e. *true* or *false*. JSON represents these...exactly as they are."
     ]
    },
    {
     "cell_type": "code",
     "collapsed": false,
     "input": [
      "print(\"A number\", json.dumps( 1.234 ))\n",
      "print(\"A string\", json.dumps( 'Message in %d bottles' % 1000 ))\n",
      "print(\"A Boolean\", json.dumps( 2 + 2 == 4 ))"
     ],
     "language": "python",
     "metadata": {},
     "outputs": [
      {
       "output_type": "stream",
       "stream": "stdout",
       "text": [
        "A number 1.234\n",
        "A string \"Message in 1000 bottles\"\n",
        "A Boolean true\n"
       ]
      }
     ],
     "prompt_number": 2
    },
    {
     "cell_type": "markdown",
     "metadata": {},
     "source": [
      "It's worth noticing what it did with that bottled message though - it was printed with double quotes around it. This is part of the JSON specification - strings, which is to say simple objects that are neither numbers or Booleans, are wrapped in double quotes. Compare the JSON-dumped and plain version..."
     ]
    },
    {
     "cell_type": "code",
     "collapsed": false,
     "input": [
      "print(\"My normal string -\", 'Message in %d bottles' % 1000)\n",
      "print(\"My JSON string -\", json.dumps( 'Message in %d bottles' % 1000 ))"
     ],
     "language": "python",
     "metadata": {},
     "outputs": [
      {
       "output_type": "stream",
       "stream": "stdout",
       "text": [
        "My normal string - Message in 1000 bottles\n",
        "My JSON string - \"Message in 1000 bottles\"\n"
       ]
      }
     ],
     "prompt_number": 3
    },
    {
     "cell_type": "markdown",
     "metadata": {},
     "source": [
      "So what happens if your message itself has a quotation?"
     ]
    },
    {
     "cell_type": "code",
     "collapsed": false,
     "input": [
      "print(\"A string -\", json.dumps( '\"Programming is great!\" exclaimed Alice.' ))"
     ],
     "language": "python",
     "metadata": {},
     "outputs": [
      {
       "output_type": "stream",
       "stream": "stdout",
       "text": [
        "A string - \"\\\"Programming is great!\\\" exclaimed Alice.\"\n"
       ]
      }
     ],
     "prompt_number": 4
    },
    {
     "cell_type": "markdown",
     "metadata": {},
     "source": [
      "Double-quotes within a double-quoted string are managed by putting the superpower sign \\ (backslash) in front of them.  And if your string has a backslash? Put a backslash in front of it."
     ]
    },
    {
     "cell_type": "code",
     "collapsed": false,
     "input": [
      "backslash_string = '\"What would we do without the \\ character?\", Susan mused.'\n",
      "print(json.dumps( backslash_string ))"
     ],
     "language": "python",
     "metadata": {},
     "outputs": [
      {
       "output_type": "stream",
       "stream": "stdout",
       "text": [
        "\"\\\"What would we do without the \\\\ character?\\\", Susan mused.\"\n"
       ]
      }
     ],
     "prompt_number": 5
    },
    {
     "cell_type": "markdown",
     "metadata": {},
     "source": [
      "It's not the prettiest thing ever, but it works! And then if you have some JSON, you can read it again with the `.loads()` function."
     ]
    },
    {
     "cell_type": "code",
     "collapsed": false,
     "input": [
      "json_string = json.dumps( backslash_string )\n",
      "print(json.loads( json_string ))"
     ],
     "language": "python",
     "metadata": {},
     "outputs": [
      {
       "output_type": "stream",
       "stream": "stdout",
       "text": [
        "\"What would we do without the \\ character?\", Susan mused.\n"
       ]
      }
     ],
     "prompt_number": 6
    },
    {
     "cell_type": "markdown",
     "metadata": {},
     "source": [
      "Complex objects\n",
      "---------------\n",
      "\n",
      "Okay, but we have an entire text and all sorts of information we want to encode, and if we were happy to just throw it in between double quotes, we wouldn't be here. We need complex objects. They include:\n",
      "\n",
      "* A list of objects\n",
      "* A dictionary of objects\n",
      "\n",
      "For starters, we might want to indicate that our text is not just a long line, but individual words. We can make it a list."
     ]
    },
    {
     "cell_type": "code",
     "collapsed": false,
     "input": [
      "story = \"It was a dark  and stormy night.\"\n",
      "## We want to get each word. We could do it the hard way...\n",
      "storywords = [ 'It', 'was', 1, 'dark', 'and', 'stormy', 'night.' ]\n",
      "print(\"Try #1:\", json.dumps( storywords ))"
     ],
     "language": "python",
     "metadata": {},
     "outputs": [
      {
       "output_type": "stream",
       "stream": "stdout",
       "text": [
        "Try #1: [\"It\", \"was\", 1, \"dark\", \"and\", \"stormy\", \"night.\"]\n"
       ]
      }
     ],
     "prompt_number": 7
    },
    {
     "cell_type": "markdown",
     "metadata": {},
     "source": [
      "But why do we learn Python if not to make things easy for ourselves?\n",
      "Let's make the same list, the easy way - splitting up the story according to the spaces."
     ]
    },
    {
     "cell_type": "code",
     "collapsed": false,
     "input": [
      "storywords = story.split()\n",
      "storywords[2] = 1\n",
      "print(storywords)\n",
      "print(\"Try #2:\", json.dumps( storywords ))"
     ],
     "language": "python",
     "metadata": {},
     "outputs": [
      {
       "output_type": "stream",
       "stream": "stdout",
       "text": [
        "['It', 'was', 1, 'dark', 'and', 'stormy', 'night.']\n",
        "Try #2: [\"It\", \"was\", 1, \"dark\", \"and\", \"stormy\", \"night.\"]\n"
       ]
      }
     ],
     "prompt_number": 8
    },
    {
     "cell_type": "markdown",
     "metadata": {},
     "source": [
      "Notice the JSON rules for a list:\n",
      "\n",
      "* It is surrounded by [] (square brackets).\n",
      "* Its elements (which can be any object, simple or complex) are separated by commas.\n",
      "\n",
      "And so now we can send a list to someone, and they can send a list to us. We convert JSON back into data with the `.loads()` method. This is important - JSON itself is just a character string, and doesn't become a list until we load it!"
     ]
    },
    {
     "cell_type": "code",
     "collapsed": false,
     "input": [
      "json_string_from_elsewhere = '[\"So\", \"long\", \"and\", \"thanks\", \"for\", \"all\", \"the\", \"fish.\"]'\n",
      "python_string = 'Hello'\n",
      "print(\"Second word is\", json_string_from_elsewhere[1])"
     ],
     "language": "python",
     "metadata": {},
     "outputs": [
      {
       "output_type": "stream",
       "stream": "stdout",
       "text": [
        "Second word is \"\n"
       ]
      }
     ],
     "prompt_number": 9
    },
    {
     "cell_type": "markdown",
     "metadata": {},
     "source": [
      "See? You might have expected the second element in the list, but instead you got the second character in the string. Let's try that again after loading the string."
     ]
    },
    {
     "cell_type": "code",
     "collapsed": false,
     "input": [
      "wordlist = json.loads( json_string_from_elsewhere )\n",
      "print(\"Second word is\", wordlist[1])"
     ],
     "language": "python",
     "metadata": {},
     "outputs": [
      {
       "output_type": "stream",
       "stream": "stdout",
       "text": [
        "Second word is long\n"
       ]
      }
     ],
     "prompt_number": 10
    },
    {
     "cell_type": "markdown",
     "metadata": {},
     "source": [
      "But we might even want to describe something even more complex - like the fact that each thing in the list is a \"word\", and maybe even the word number. Sure, we can figure that out by looking at the list and using our common sense, but computers don't have common sense, and maybe later we will want to do something with the words that involves mixing up their order.\n",
      "\n",
      "So for each word, let's make a little dictionary to say that the \"word\" is whatever the word is, and the \"sequence\" shows the order of the words. If we felt like it we could add more information like the word's root form, or whether it had punctuation before or after, or anything we like."
     ]
    },
    {
     "cell_type": "code",
     "collapsed": false,
     "input": [
      "storywords = []\n",
      "counter = 1\n",
      "for w in story.split():\n",
      "    wordinfo = { 'word': w, 'sequence': counter }\n",
      "    storywords.append( wordinfo )\n",
      "    counter += 1\n",
      "print(storywords)\n",
      "print(json.dumps( storywords ))"
     ],
     "language": "python",
     "metadata": {},
     "outputs": [
      {
       "output_type": "stream",
       "stream": "stdout",
       "text": [
        "[{'sequence': 1, 'word': 'It'}, {'sequence': 2, 'word': 'was'}, {'sequence': 3, 'word': 'a'}, {'sequence': 4, 'word': 'dark'}, {'sequence': 5, 'word': 'and'}, {'sequence': 6, 'word': 'stormy'}, {'sequence': 7, 'word': 'night.'}]\n",
        "[{\"sequence\": 1, \"word\": \"It\"}, {\"sequence\": 2, \"word\": \"was\"}, {\"sequence\": 3, \"word\": \"a\"}, {\"sequence\": 4, \"word\": \"dark\"}, {\"sequence\": 5, \"word\": \"and\"}, {\"sequence\": 6, \"word\": \"stormy\"}, {\"sequence\": 7, \"word\": \"night.\"}]\n"
       ]
      }
     ],
     "prompt_number": 11
    },
    {
     "cell_type": "markdown",
     "metadata": {},
     "source": [
      "Okay! The rules for dictionary objects are slightly more complex:\n",
      "\n",
      "* Each dictionary is surrounded by {} (curly quotes).\n",
      "* The dictionary has a set of *keys* and a set of *values*. \n",
      "* Each *key* must be a string (i.e. a simple JSON object that goes into double quotes).\n",
      "* Each *value* can be any object, simple or complex.\n",
      "\n",
      "So what we have here is a **list** of **dictionaries** - each dictionary has a 'word' and a 'sequence'.\n",
      "\n",
      "By now you'll also have noticed that these JSON concepts, and the way JSON writes them out, are pretty similar to what you've learned about how to make strings and lists and dictionaries in Python! This is no accident. What it means is that you can put your data into Python, and then use `json.dumps()` to *serialize* it (that is, get it in a form that can be sent to someone else) and then, when you get data back from them, you can use `json.loads` to read it again. \n",
      "\n",
      "But then, you ask, why not just use the plain old Python objects and send *those* around? Answer: because not everyone uses Python to program - in a minute we are going to talk to a server that is written in Java! Second answer: because one of the rules of programming is that the objects you make within your program cannot be directly sent outside your program. Your program's objects are the direct thoughts and pictures in its brain, and other programs can't simply read your program's mind - they have to communicate by speaking words or drawing pictures that can be passed around.\n",
      "\n",
      "Why `dumps` and `loads`? It's a common metaphor. I carry around a bunch of information and then dump it in someone else's lap; that person loads it into his or her wheelbarrow (program) and carries it somewhere else."
     ]
    },
    {
     "cell_type": "markdown",
     "metadata": {},
     "source": [
      "JSON for Text Collation\n",
      "-----------------------\n",
      "\n",
      "We have a collation program that will take a set of *variants* of a text and align them, giving us a result that shows where the texts differ and where they are the same. This is a very important thing to do if you are working on philology, or a critical edition of a text.\n",
      "\n",
      "The collation program accepts JSON input that tells it what the *witnesses* are (that is, the different text variants) and returns an answer with the witnesses all aligned. We can try it out! There are two ways to do this, and the first is pretty straightforward, so that's what we will use. It wants a dictionary with the key *witnesses*, whose value is a list of dictionaries. Each dictionary (that is, each witness) has an *id* and some *content*.\n",
      "\n",
      "    { \"witnesses\": [ { \"id\": \"A\", \"content\": \"This is the first text\" }, { \"id\": \"B\", \"content\": \"This is the second text\" } ] }\n",
      "    \n",
      "Let's build that up in Python!"
     ]
    },
    {
     "cell_type": "code",
     "collapsed": false,
     "input": [
      "first_witness  = \"Du kennst von Alters her meine Art, mich anzubauen, irgend mir an einem vertraulichen Orte ein H\u00fcttchen aufzuschlagen, und da mit aller Einschr\u00e4nkung zu herbergen.\"\n",
      "second_witness = \"Du kennst von Altersher meine Art, mich anzubauen, mir irgend an einem vertraulichen Ort ein H\u00fcttchen aufzuschlagen, und da mit aller Einschr\u00e4nkung zu herbergen.\"\n",
      "third_witness  = \"Du kennst von Altersher meine Art, mich anzubauen, irgend an einem vertraulichen Ort ein H\u00fcttchen aufzuschlagen, und da zu herbergen.\"\n",
      "\n",
      "witnesses = []\n",
      "witnesses.append( { \"id\": \"M\u00fc375\", \"content\": first_witness  } )\n",
      "witnesses.append( { \"id\": \"V887\", \"content\": second_witness } )\n",
      "witnesses.append( { \"id\": \"Oxford\", \"content\": third_witness  } )\n",
      "collation_input = { \"witnesses\": witnesses }\n",
      "\n",
      "print(json.dumps( collation_input ))"
     ],
     "language": "python",
     "metadata": {},
     "outputs": [
      {
       "output_type": "stream",
       "stream": "stdout",
       "text": [
        "{\"witnesses\": [{\"id\": \"M\\u00fc375\", \"content\": \"Du kennst von Alters her meine Art, mich anzubauen, irgend mir an einem vertraulichen Orte ein H\\u00fcttchen aufzuschlagen, und da mit aller Einschr\\u00e4nkung zu herbergen.\"}, {\"id\": \"V887\", \"content\": \"Du kennst von Altersher meine Art, mich anzubauen, mir irgend an einem vertraulichen Ort ein H\\u00fcttchen aufzuschlagen, und da mit aller Einschr\\u00e4nkung zu herbergen.\"}, {\"id\": \"Oxford\", \"content\": \"Du kennst von Altersher meine Art, mich anzubauen, irgend an einem vertraulichen Ort ein H\\u00fcttchen aufzuschlagen, und da zu herbergen.\"}]}\n"
       ]
      }
     ],
     "prompt_number": 12
    },
    {
     "cell_type": "markdown",
     "metadata": {},
     "source": [
      "(Did you notice how the \"content\" and \"id\" got swapped around from the order in which we wrote them? This is an important difference between dictionaries and lists - for dictionaries, it doesn't matter what order the information comes in!)\n",
      "\n",
      "Now we can send that to the collator and get an answer back. It will assume that words are separated by spaces.\n",
      "\n",
      "But before we do that, we need to tell the collation program a few extra things:"
     ]
    },
    {
     "cell_type": "code",
     "collapsed": true,
     "input": [
      "collation_input['tokenComparator'] = {'type':'equality'}\n",
      "collation_input['algorithm'] = 'dekker'"
     ],
     "language": "python",
     "metadata": {},
     "outputs": [],
     "prompt_number": 13
    },
    {
     "cell_type": "markdown",
     "metadata": {},
     "source": [
      "Hang onto your hats - we are going to use the `urllib` module, which lets us send JSON to a program running on someone else's webserver, and get an answer back. Don't worry too much about the details at this point - just know that this is possible, and it is the sort of thing that JSON was invented for. We have our data structure (that is, our witnesses and their content) and we have *serialized* them into a JSON string so that we can send them away to the webserver, and we'll get a different JSON string back that we can *deserialize* into collation data."
     ]
    },
    {
     "cell_type": "code",
     "collapsed": false,
     "input": [
      "from urllib import request\n",
      "\n",
      "request_data = json.dumps(collation_input).encode('utf-8')\n",
      "collation_headers = { \n",
      "    'Content-Type': 'application/json', \n",
      "    'Accept' : 'application/json' \n",
      "}\n",
      "webrequest = request.Request( 'http://collatex.net/demo/collate', \n",
      "                             request_data, collation_headers )\n",
      "webanswer = request.urlopen( webrequest )\n",
      "print(webanswer.getcode())\n",
      "json_answer = webanswer.read().decode('utf-8')\n",
      "print(json_answer)\n"
     ],
     "language": "python",
     "metadata": {},
     "outputs": [
      {
       "output_type": "stream",
       "stream": "stdout",
       "text": [
        "200\n",
        "{\"witnesses\":[\"M\u00fc375\",\"Oxford\",\"V887\"],\"table\":[[[\"Du \",\"kennst \",\"von \"],[\"Du \",\"kennst \",\"von \"],[\"Du \",\"kennst \",\"von \"]],[[\"Alters \",\"her \"],[\"Altersher \"],[\"Altersher \"]],[[\"meine \",\"Art\",\", \",\"mich \",\"anzubauen\",\", \"],[\"meine \",\"Art\",\", \",\"mich \",\"anzubauen\",\", \"],[\"meine \",\"Art\",\", \",\"mich \",\"anzubauen\",\", \"]],[[],[],[\"mir \"]],[[\"irgend \"],[\"irgend \"],[\"irgend \"]],[[\"mir \"],[],[]],[[\"an \",\"einem \",\"vertraulichen \"],[\"an \",\"einem \",\"vertraulichen \"],[\"an \",\"einem \",\"vertraulichen \"]],[[\"Orte \"],[\"Ort \"],[\"Ort \"]],[[\"ein \",\"H\u00fcttchen \",\"aufzuschlagen\",\", \",\"und \",\"da \"],[\"ein \",\"H\u00fcttchen \",\"aufzuschlagen\",\", \",\"und \",\"da \"],[\"ein \",\"H\u00fcttchen \",\"aufzuschlagen\",\", \",\"und \",\"da \"]],[[\"mit \",\"aller \",\"Einschr\u00e4nkung \"],[],[\"mit \",\"aller \",\"Einschr\u00e4nkung \"]],[[\"zu \",\"herbergen\",\".\"],[\"zu \",\"herbergen\",\".\"],[\"zu \",\"herbergen\",\".\"]]]}\n"
       ]
      }
     ],
     "prompt_number": 14
    },
    {
     "cell_type": "markdown",
     "metadata": {},
     "source": [
      "So what have we here? A dictionary object with two keys, 'witnesses' and 'table'. The table is a list of lists - each row in the table becomes a list reading left to right, and the table itself is the list of rows. In this case, each table cell is itself a list of words. So it's a slightly more complex table than usual...\n",
      "\n",
      "In this case, the 'witnesses' key is really the first row of our collation table - a list of our witness IDs in the order they appear in the rest of the table rows. First let's turn the JSON into real data:"
     ]
    },
    {
     "cell_type": "code",
     "collapsed": false,
     "input": [
      "collation = json.loads( json_answer )"
     ],
     "language": "python",
     "metadata": {},
     "outputs": [],
     "prompt_number": 15
    },
    {
     "cell_type": "markdown",
     "metadata": {},
     "source": [
      "...and then let's print out the table as HTML. For this we will make use of IPython's ability to spit out HTML, and we will make it so that each witness takes up a row. You don't have to pay too much attention to how this is done if you don't know HTML, but it lets you see how we can format, slice, dice, and rearrange data."
     ]
    },
    {
     "cell_type": "code",
     "collapsed": false,
     "input": [
      "from IPython.core.display import HTML\n",
      "\n",
      "witness_rows = []\n",
      "\n",
      "# Start the rows with the witness IDs as headers\n",
      "for witness in collation['witnesses']:\n",
      "    row_html = '<th>%s</th>' % witness\n",
      "    witness_rows.append( row_html )\n",
      "\n",
      "# Now for each set of matching words in the collation, add them to their\n",
      "# respective witness rows\n",
      "for row in collation['table']:\n",
      "    for index, cell in enumerate( row ):\n",
      "        cell_html = '<td>%s</td>' % ' '.join( cell )\n",
      "        witness_rows[index] += cell_html\n",
      "    \n",
      "# Make the table with all the rows\n",
      "collation_table = '<table>'\n",
      "for html_row in witness_rows:\n",
      "    collation_table += '<tr>%s</tr>' % html_row\n",
      "collation_table += '</table>'\n",
      "\n",
      "# Display it\n",
      "print(\"This is the plain HTML that we get from our code above.\")\n",
      "print(collation_table)   # This is what the HTML looks like. Pointy, eh?\n",
      "\n",
      "## Do NOT try this line in PyCharm! It only works in this IPython notebook.\n",
      "print(\"\\nAnd this is what that HTML turns into in a web browser.\")\n",
      "HTML(collation_table)    # This is what the browser does with all those pointy brackets"
     ],
     "language": "python",
     "metadata": {},
     "outputs": [
      {
       "output_type": "stream",
       "stream": "stdout",
       "text": [
        "This is the plain HTML that we get from our code above.\n",
        "<table><tr><th>M\u00fc375</th><td>Du  kennst  von </td><td>Alters  her </td><td>meine  Art ,  mich  anzubauen , </td><td></td><td>irgend </td><td>mir </td><td>an  einem  vertraulichen </td><td>Orte </td><td>ein  H\u00fcttchen  aufzuschlagen ,  und  da </td><td>mit  aller  Einschr\u00e4nkung </td><td>zu  herbergen .</td></tr><tr><th>Oxford</th><td>Du  kennst  von </td><td>Altersher </td><td>meine  Art ,  mich  anzubauen , </td><td></td><td>irgend </td><td></td><td>an  einem  vertraulichen </td><td>Ort </td><td>ein  H\u00fcttchen  aufzuschlagen ,  und  da </td><td></td><td>zu  herbergen .</td></tr><tr><th>V887</th><td>Du  kennst  von </td><td>Altersher </td><td>meine  Art ,  mich  anzubauen , </td><td>mir </td><td>irgend </td><td></td><td>an  einem  vertraulichen </td><td>Ort </td><td>ein  H\u00fcttchen  aufzuschlagen ,  und  da </td><td>mit  aller  Einschr\u00e4nkung </td><td>zu  herbergen .</td></tr></table>\n",
        "\n",
        "And this is what that HTML turns into in a web browser.\n"
       ]
      },
      {
       "html": [
        "<table><tr><th>M\u00fc375</th><td>Du  kennst  von </td><td>Alters  her </td><td>meine  Art ,  mich  anzubauen , </td><td></td><td>irgend </td><td>mir </td><td>an  einem  vertraulichen </td><td>Orte </td><td>ein  H\u00fcttchen  aufzuschlagen ,  und  da </td><td>mit  aller  Einschr\u00e4nkung </td><td>zu  herbergen .</td></tr><tr><th>Oxford</th><td>Du  kennst  von </td><td>Altersher </td><td>meine  Art ,  mich  anzubauen , </td><td></td><td>irgend </td><td></td><td>an  einem  vertraulichen </td><td>Ort </td><td>ein  H\u00fcttchen  aufzuschlagen ,  und  da </td><td></td><td>zu  herbergen .</td></tr><tr><th>V887</th><td>Du  kennst  von </td><td>Altersher </td><td>meine  Art ,  mich  anzubauen , </td><td>mir </td><td>irgend </td><td></td><td>an  einem  vertraulichen </td><td>Ort </td><td>ein  H\u00fcttchen  aufzuschlagen ,  und  da </td><td>mit  aller  Einschr\u00e4nkung </td><td>zu  herbergen .</td></tr></table>"
       ],
       "metadata": {},
       "output_type": "pyout",
       "prompt_number": 16,
       "text": [
        "<IPython.core.display.HTML at 0x1073a8710>"
       ]
      }
     ],
     "prompt_number": 16
    },
    {
     "cell_type": "markdown",
     "metadata": {},
     "source": [
      "Great! We took our data and made JSON out of it, and then we sent it over the Internet to a collation service called CollateX and received JSON back. And now we have a collation table that we constructed from the JSON that we got. Victory!\n",
      "\n"
     ]
    }
   ],
   "metadata": {}
  }
 ]
}